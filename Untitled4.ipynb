{
 "metadata": {
  "name": "Untitled4"
 }, 
 "nbformat": 2, 
 "worksheets": []
}