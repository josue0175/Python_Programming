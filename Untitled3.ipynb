{
 "metadata": {
  "name": "Untitled3"
 }, 
 "nbformat": 2, 
 "worksheets": []
}